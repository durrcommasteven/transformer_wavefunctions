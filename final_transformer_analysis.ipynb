{
 "cells": [
  {
   "cell_type": "markdown",
   "id": "bcc83777",
   "metadata": {},
   "source": [
    "Here, we compute expected quantities for transformer wave functions\n",
    "\n",
    "This includes \n",
    "\n",
    " - 2nd Renyi entropy\n",
    " - correlation functions\n",
    " - local functions"
   ]
  },
  {
   "cell_type": "code",
   "execution_count": 24,
   "id": "69b46f9d",
   "metadata": {},
   "outputs": [
    {
     "name": "stderr",
     "output_type": "stream",
     "text": [
      "C:\\ProgramData\\Anaconda3\\lib\\site-packages\\tensorboard\\compat\\tensorflow_stub\\dtypes.py:541: FutureWarning: Passing (type, 1) or '1type' as a synonym of type is deprecated; in a future version of numpy, it will be understood as (type, (1,)) / '(1,)type'.\n",
      "  _np_qint8 = np.dtype([(\"qint8\", np.int8, 1)])\n",
      "C:\\ProgramData\\Anaconda3\\lib\\site-packages\\tensorboard\\compat\\tensorflow_stub\\dtypes.py:542: FutureWarning: Passing (type, 1) or '1type' as a synonym of type is deprecated; in a future version of numpy, it will be understood as (type, (1,)) / '(1,)type'.\n",
      "  _np_quint8 = np.dtype([(\"quint8\", np.uint8, 1)])\n",
      "C:\\ProgramData\\Anaconda3\\lib\\site-packages\\tensorboard\\compat\\tensorflow_stub\\dtypes.py:543: FutureWarning: Passing (type, 1) or '1type' as a synonym of type is deprecated; in a future version of numpy, it will be understood as (type, (1,)) / '(1,)type'.\n",
      "  _np_qint16 = np.dtype([(\"qint16\", np.int16, 1)])\n",
      "C:\\ProgramData\\Anaconda3\\lib\\site-packages\\tensorboard\\compat\\tensorflow_stub\\dtypes.py:544: FutureWarning: Passing (type, 1) or '1type' as a synonym of type is deprecated; in a future version of numpy, it will be understood as (type, (1,)) / '(1,)type'.\n",
      "  _np_quint16 = np.dtype([(\"quint16\", np.uint16, 1)])\n",
      "C:\\ProgramData\\Anaconda3\\lib\\site-packages\\tensorboard\\compat\\tensorflow_stub\\dtypes.py:545: FutureWarning: Passing (type, 1) or '1type' as a synonym of type is deprecated; in a future version of numpy, it will be understood as (type, (1,)) / '(1,)type'.\n",
      "  _np_qint32 = np.dtype([(\"qint32\", np.int32, 1)])\n",
      "C:\\ProgramData\\Anaconda3\\lib\\site-packages\\tensorboard\\compat\\tensorflow_stub\\dtypes.py:550: FutureWarning: Passing (type, 1) or '1type' as a synonym of type is deprecated; in a future version of numpy, it will be understood as (type, (1,)) / '(1,)type'.\n",
      "  np_resource = np.dtype([(\"resource\", np.ubyte, 1)])\n",
      "C:\\ProgramData\\Anaconda3\\lib\\site-packages\\tensorflow_addons\\utils\\ensure_tf_install.py:68: UserWarning: Tensorflow Addons supports using Python ops for all Tensorflow versions above or equal to 2.2.0 and strictly below 2.3.0 (nightly versions are not supported). \n",
      " The versions of TensorFlow you are currently using is 2.7.0 and is not supported. \n",
      "Some things might work, some things might not.\n",
      "If you were to encounter a bug, do not file an issue.\n",
      "If you want to make sure you're using a tested and supported configuration, either change the TensorFlow version or the TensorFlow Addons's version. \n",
      "You can find the compatibility matrix in TensorFlow Addon's readme:\n",
      "https://github.com/tensorflow/addons\n",
      "  UserWarning,\n"
     ]
    }
   ],
   "source": [
    "import json\n",
    "from TransformerWF import *\n",
    "import matplotlib.pyplot as plt"
   ]
  },
  {
   "cell_type": "markdown",
   "id": "ee7273b2",
   "metadata": {},
   "source": [
    "# Expectations\n",
    "\n",
    "We'll estimate expectations in the same way we estimate energies:\n",
    "\n",
    "\\begin{equation}\n",
    "    \\langle \\Psi | \\hat{O} | \\Psi \\rangle = \\sum_{\\sigma, \\sigma'} \\psi_{\\sigma'}^* \\hat{O}_{\\sigma', \\sigma} \\psi_{\\sigma} = \\sum_{\\sigma, \\sigma'} |\\psi_{\\sigma'}|^2 \\hat{O}_{\\sigma', \\sigma} \\frac{\\psi_{\\sigma}}{\\psi_{\\sigma'}}\n",
    "\\end{equation}\n",
    "\n",
    "\\begin{equation}\n",
    "    V_{loc}(\\sigma') = \\sum_{\\sigma} \\hat{O}_{\\sigma', \\sigma} \\frac{\\psi_{\\sigma}}{\\psi_{\\sigma'}}\n",
    "\\end{equation}\n",
    "\n",
    "\\begin{equation}\n",
    "    \\langle \\Psi | \\hat{O} | \\Psi \\rangle = \\sum_{\\sigma'} |\\psi_{\\sigma'}|^2 V_{loc}(\\sigma')\n",
    "\\end{equation}\n",
    "\n",
    "Therefore \n",
    "\n",
    "$$\n",
    "\\hat{O} = \\sigma_x^i \\sigma_x^j \\implies \\langle \\sigma |\\sigma_x^i \\sigma_x^j = \\langle \\sigma_{(i, j)} |\n",
    "$$\n",
    "therefore\n",
    "$$\n",
    "V_{loc}(\\sigma) = \\frac{\\psi_{\\sigma_{(i, j)}}}{\\psi_{\\sigma}}\n",
    "$$"
   ]
  },
  {
   "cell_type": "code",
   "execution_count": 15,
   "id": "54d65a99",
   "metadata": {},
   "outputs": [],
   "source": [
    "def map_kink_to_state(kinks):\n",
    "    \"\"\"\n",
    "    \n",
    "    \"\"\"\n",
    "    batch_size=kinks.shape[0]\n",
    "    configuration = [[1*(np.random.rand()>.5) for _ in range(batch_size)]]\n",
    "    \n",
    "    for idx in range(kinks.shape[-1]):\n",
    "        next_step = []\n",
    "        for bidx in range(batch_size):\n",
    "            if kinks[bidx, idx]==0:\n",
    "                next_step.append(configuration[idx][bidx])\n",
    "            else:\n",
    "                next_step.append(1-configuration[idx][bidx])\n",
    "        configuration.append(next_step)\n",
    "\n",
    "    configuration = np.array(configuration).T\n",
    "    \n",
    "    return configuration"
   ]
  },
  {
   "cell_type": "code",
   "execution_count": 16,
   "id": "7eb0b86e",
   "metadata": {},
   "outputs": [],
   "source": [
    "def map_state_to_kink(state):\n",
    "    \"\"\"\n",
    "    \n",
    "    \"\"\"\n",
    "    kinks = []\n",
    "    for idx in range(state.shape[-1]-1):\n",
    "        kinks.append(\n",
    "            1*(state[:, idx]!=state[:, idx+1])\n",
    "        )\n",
    "    \n",
    "    return np.array(kinks).T"
   ]
  },
  {
   "cell_type": "code",
   "execution_count": 17,
   "id": "cee43236",
   "metadata": {},
   "outputs": [
    {
     "data": {
      "text/plain": [
       "array([[1, 0],\n",
       "       [1, 1]])"
      ]
     },
     "execution_count": 17,
     "metadata": {},
     "output_type": "execute_result"
    }
   ],
   "source": [
    "map_state_to_kink(map_kink_to_state(np.array([[1, 0],[1, 1]])))"
   ]
  },
  {
   "cell_type": "code",
   "execution_count": 56,
   "id": "ae5dc372",
   "metadata": {},
   "outputs": [],
   "source": [
    "def x_correlator(idx1, idx2, sample_size, decoder, include_phases=False, kink=True):\n",
    "    \"\"\"\n",
    "    \n",
    "    \"\"\"\n",
    "    if idx1==idx2:\n",
    "        return 1\n",
    "    \n",
    "    # to avoid overloading the memory\n",
    "    max_batch_size = 15_000\n",
    "    count = sample_size\n",
    "    \n",
    "    correlator = 0\n",
    "    \n",
    "    while count>0:\n",
    "        batch_size = min(max_batch_size, count)\n",
    "        count -= batch_size\n",
    "        \n",
    "        initial_states = np.zeros((batch_size, 1))\n",
    "\n",
    "        samples, log_probs, phases = decoder.autoregressive_sampling(\n",
    "            initial_states\n",
    "        )\n",
    "        \n",
    "        if kink:\n",
    "            samples = map_kink_to_state(samples)\n",
    "        \n",
    "        # Obtain the flipped states\n",
    "        flip_array = np.ones_like(samples)\n",
    "        flip_array[:, idx1] = -1\n",
    "        flip_array[:, idx2] = -1\n",
    "        \n",
    "        flipped_samples = ((2*samples-1)*flip_array+1)/2\n",
    "        \n",
    "        if kink:\n",
    "            flipped_samples = map_state_to_kink(flipped_samples)\n",
    "            \n",
    "        flipped_log_probs, flipped_phases = decoder.evaluate_state(\n",
    "            flipped_samples,\n",
    "        )\n",
    "        \n",
    "        ratio_mags = tf.math.exp(\n",
    "            (1/2)*(flipped_log_probs - log_probs)\n",
    "        )\n",
    "        \n",
    "        if include_phases:\n",
    "            ratio_real_part = ratio_mags*tf.math.cos(-phases + flipped_phases)\n",
    "            # ratio_imag_part = ratio_mags*tf.math.sin(-phases + flipped_phases)\n",
    "        else:\n",
    "            ratio_real_part = ratio_mags\n",
    "        \n",
    "        # we only care about the real part\n",
    "        correlator += np.sum(ratio_real_part.numpy())\n",
    "    \n",
    "    return correlator/sample_size"
   ]
  },
  {
   "cell_type": "code",
   "execution_count": 50,
   "id": "a56244d1",
   "metadata": {},
   "outputs": [],
   "source": [
    "xs = [x_correlator(0, idx, sample_size=10_000, decoder=decoder) for idx in range(80)]"
   ]
  },
  {
   "cell_type": "code",
   "execution_count": 51,
   "id": "0f3815e1",
   "metadata": {},
   "outputs": [
    {
     "data": {
      "text/plain": [
       "[<matplotlib.lines.Line2D at 0x208f3d883c8>]"
      ]
     },
     "execution_count": 51,
     "metadata": {},
     "output_type": "execute_result"
    },
    {
     "data": {
      "image/png": "[encoded data removed]",
      "text/plain": [
       "<Figure size 432x288 with 1 Axes>"
      ]
     },
     "metadata": {
      "needs_background": "light"
     },
     "output_type": "display_data"
    }
   ],
   "source": [
    "plt.plot(xs)"
   ]
  },
  {
   "cell_type": "code",
   "execution_count": 52,
   "id": "50c43665",
   "metadata": {},
   "outputs": [
    {
     "data": {
      "text/plain": [
       "0.682384521484375"
      ]
     },
     "execution_count": 52,
     "metadata": {},
     "output_type": "execute_result"
    }
   ],
   "source": [
    "x_expectation(50, sample_size=10_000, decoder=decoder, include_phases=False)"
   ]
  },
  {
   "cell_type": "code",
   "execution_count": 26,
   "id": "1c440ed8",
   "metadata": {},
   "outputs": [
    {
     "data": {
      "text/plain": [
       "0.5102296569824218"
      ]
     },
     "execution_count": 26,
     "metadata": {},
     "output_type": "execute_result"
    }
   ],
   "source": [
    "x_correlator(0, 50, sample_size=10_000, decoder=decoder, include_phases=False)"
   ]
  },
  {
   "cell_type": "code",
   "execution_count": 27,
   "id": "a909733c",
   "metadata": {},
   "outputs": [
    {
     "data": {
      "text/plain": [
       "0.5258552642822265"
      ]
     },
     "execution_count": 27,
     "metadata": {},
     "output_type": "execute_result"
    }
   ],
   "source": [
    "x_correlator(0, 50, sample_size=10_000, decoder=decoder, include_phases=False)"
   ]
  },
  {
   "cell_type": "code",
   "execution_count": 44,
   "id": "f89c9401",
   "metadata": {},
   "outputs": [],
   "source": [
    "out = z_correlator(sample_size=10_000, decoder=decoder, include_phases=False)"
   ]
  },
  {
   "cell_type": "code",
   "execution_count": 45,
   "id": "b80b80c5",
   "metadata": {},
   "outputs": [
    {
     "data": {
      "text/plain": [
       "<matplotlib.image.AxesImage at 0x208f36e43c8>"
      ]
     },
     "execution_count": 45,
     "metadata": {},
     "output_type": "execute_result"
    },
    {
     "data": {
      "image/png": "[encoded data removed]",
      "text/plain": [
       "<Figure size 432x288 with 1 Axes>"
      ]
     },
     "metadata": {
      "needs_background": "light"
     },
     "output_type": "display_data"
    }
   ],
   "source": [
    "plt.imshow(out, interpolation='nearest')"
   ]
  },
  {
   "cell_type": "code",
   "execution_count": 47,
   "id": "3a34d495",
   "metadata": {},
   "outputs": [
    {
     "data": {
      "text/plain": [
       "[<matplotlib.lines.Line2D at 0x208f39897c8>]"
      ]
     },
     "execution_count": 47,
     "metadata": {},
     "output_type": "execute_result"
    },
    {
     "data": {
      "image/png": "[encoded data removed]",
      "text/plain": [
       "<Figure size 432x288 with 1 Axes>"
      ]
     },
     "metadata": {
      "needs_background": "light"
     },
     "output_type": "display_data"
    }
   ],
   "source": [
    "plt.plot(out[25, :])"
   ]
  },
  {
   "cell_type": "code",
   "execution_count": 19,
   "id": "6bedff68",
   "metadata": {},
   "outputs": [],
   "source": [
    "def x_expectation(idx, sample_size, decoder, include_phases=True, kink=True):\n",
    "    \"\"\"\n",
    "    \n",
    "    \"\"\"\n",
    "    \n",
    "    # to avoid overloading the memory\n",
    "    max_batch_size = 15_000\n",
    "    count = sample_size\n",
    "    \n",
    "    expectation = 0\n",
    "    \n",
    "    while count>0:\n",
    "        batch_size = min(max_batch_size, count)\n",
    "        count -= batch_size\n",
    "        \n",
    "        initial_states = np.zeros((batch_size, 1))\n",
    "\n",
    "        samples, log_probs, phases = decoder.autoregressive_sampling(\n",
    "            initial_states\n",
    "        )\n",
    "        \n",
    "        if kink:\n",
    "            samples = map_kink_to_state(samples)\n",
    "        \n",
    "        # Obtain the flipped states\n",
    "        flip_array = np.ones_like(samples)\n",
    "        flip_array[:, idx] = -1\n",
    "        \n",
    "        flipped_samples = ((2*samples-1)*flip_array+1)/2\n",
    "        \n",
    "        if kink:\n",
    "            flipped_samples = map_state_to_kink(flipped_samples)\n",
    "            \n",
    "        flipped_log_probs, flipped_phases = decoder.evaluate_state(\n",
    "            flipped_samples,\n",
    "        )\n",
    "        \n",
    "        ratio_mags = tf.math.exp(\n",
    "            (1/2)*(flipped_log_probs - log_probs)\n",
    "        )\n",
    "        \n",
    "        if include_phases:\n",
    "            ratio_real_part = ratio_mags*tf.math.cos(-phases + flipped_phases)\n",
    "            # ratio_imag_part = ratio_mags*tf.math.sin(-phases + flipped_phases)\n",
    "        else:\n",
    "            ratio_real_part = ratio_mags\n",
    "        \n",
    "        # we only care about the real part\n",
    "        expectation += np.sum(ratio_real_part.numpy())\n",
    "    \n",
    "    return expectation/sample_size"
   ]
  },
  {
   "cell_type": "code",
   "execution_count": 47,
   "id": "0da5b0d9",
   "metadata": {},
   "outputs": [
    {
     "data": {
      "text/plain": [
       "100"
      ]
     },
     "execution_count": 47,
     "metadata": {},
     "output_type": "execute_result"
    }
   ],
   "source": [
    "decoder.sequence_length-1"
   ]
  },
  {
   "cell_type": "code",
   "execution_count": 43,
   "id": "8cfd9152",
   "metadata": {},
   "outputs": [],
   "source": [
    "def z_correlator(sample_size, decoder, include_phases=True, kink=True):\n",
    "    \"\"\"\n",
    "    \n",
    "    \"\"\"\n",
    "    #if idx1==idx2:\n",
    "    #    return 1\n",
    "    \n",
    "    # to avoid overloading the memory\n",
    "    max_batch_size = 15_000\n",
    "    count = sample_size\n",
    "    \n",
    "    length = decoder.sequence_length-1\n",
    "    \n",
    "    if kink:\n",
    "        correlations = np.zeros((length+1, length+1))\n",
    "    else:\n",
    "        correlations = np.zeros((length, length))\n",
    "    \n",
    "    while count>0:\n",
    "        batch_size = min(max_batch_size, count)\n",
    "        count -= batch_size\n",
    "        \n",
    "        initial_states = np.zeros((batch_size, 1))\n",
    "\n",
    "        samples, log_probs, phases = decoder.autoregressive_sampling(\n",
    "            initial_states\n",
    "        )\n",
    "        \n",
    "        if kink:\n",
    "            samples = map_kink_to_state(samples)\n",
    "        \n",
    "        # compute correlator\n",
    "        \n",
    "        inner = np.einsum(\"bi,bj->ij\", 2*samples-1, 2*samples-1)\n",
    "        \n",
    "        correlations += inner\n",
    "        \n",
    "        \"\"\"spins1 = 2*samples[:, idx1]-1\n",
    "        spins2 = 2*samples[:, idx2]-1\n",
    "        \n",
    "        correlator += np.sum(spins1*spins2)\"\"\"\n",
    "    \n",
    "    return correlations/sample_size"
   ]
  },
  {
   "cell_type": "code",
   "execution_count": 5,
   "id": "b057692d",
   "metadata": {},
   "outputs": [],
   "source": [
    "def z_expectation(idx, sample_size, decoder, include_phases=True, kink=True):\n",
    "    \"\"\"\n",
    "    \n",
    "    \"\"\"\n",
    "    if kink:\n",
    "        return 0\n",
    "    \n",
    "    # to avoid overloading the memory\n",
    "    max_batch_size = 15_000\n",
    "    count = sample_size\n",
    "    \n",
    "    correlator = 0\n",
    "    \n",
    "    while count>0:\n",
    "        batch_size = min(max_batch_size, count)\n",
    "        count -= batch_size\n",
    "        \n",
    "        initial_states = np.zeros((batch_size, 1))\n",
    "\n",
    "        samples, log_probs, phases = decoder.autoregressive_sampling(\n",
    "            initial_states\n",
    "        )\n",
    "        \n",
    "        # compute correlator\n",
    "        \n",
    "        spins = 1-2*samples[:, idx]\n",
    "        \n",
    "        correlator += np.sum(spins)\n",
    "    \n",
    "    return correlator/sample_size"
   ]
  },
  {
   "cell_type": "markdown",
   "id": "0c2f5840",
   "metadata": {},
   "source": [
    "# creating and saving data\n",
    "\n",
    "Now we'll compute these expectations"
   ]
  },
  {
   "cell_type": "code",
   "execution_count": 25,
   "id": "b39b20a0",
   "metadata": {},
   "outputs": [],
   "source": [
    "\n",
    "name = \"kink_modified_training_length_80_tfim_seed_3\""
   ]
  },
  {
   "cell_type": "code",
   "execution_count": 26,
   "id": "21049095",
   "metadata": {},
   "outputs": [
    {
     "name": "stdout",
     "output_type": "stream",
     "text": [
      "{'num_heads': 2, 'key_dim': 15, 'value_dim': 15, 'embedding_dim': 15, 'dictionary_size': 2, 'decoding_reps': 2, 'width': None, 'depth': 2, 'sequence_length': 80}\n"
     ]
    }
   ],
   "source": [
    "with open(f'params_{name}.json', 'r') as param_file:\n",
    "    params=json.loads(param_file.read())\n",
    "\n",
    "print(params)"
   ]
  },
  {
   "cell_type": "code",
   "execution_count": 27,
   "id": "3895a4c7",
   "metadata": {},
   "outputs": [],
   "source": [
    "decoder=TransformerDecoder(\n",
    "    **params\n",
    ")"
   ]
  },
  {
   "cell_type": "code",
   "execution_count": 28,
   "id": "9d3a1017",
   "metadata": {},
   "outputs": [
    {
     "data": {
      "text/plain": [
       "<tensorflow.python.training.tracking.util.CheckpointLoadStatus at 0x2088323c888>"
      ]
     },
     "execution_count": 28,
     "metadata": {},
     "output_type": "execute_result"
    }
   ],
   "source": [
    "decoder.load_weights(name)"
   ]
  },
  {
   "cell_type": "markdown",
   "id": "86ce8bf1",
   "metadata": {},
   "source": [
    "Now that weights are loaded, we can compute the quantities and save them for the transformer wavefunction"
   ]
  },
  {
   "cell_type": "markdown",
   "id": "ef75d30e",
   "metadata": {},
   "source": [
    "## Correlations\n",
    "$$\n",
    "\\langle S^x_1 S^x_n \\rangle\n",
    "$$\n",
    "\n",
    "$$\n",
    "\\langle S^z_1 S^z_n \\rangle\n",
    "$$"
   ]
  },
  {
   "cell_type": "code",
   "execution_count": 57,
   "id": "97b14c6e",
   "metadata": {
    "scrolled": true
   },
   "outputs": [
    {
     "name": "stdout",
     "output_type": "stream",
     "text": [
      "0\n",
      "1\n",
      "2\n",
      "3\n",
      "4\n",
      "5\n",
      "6\n",
      "7\n",
      "8\n",
      "9\n",
      "10\n",
      "11\n",
      "12\n",
      "13\n",
      "14\n",
      "15\n",
      "16\n",
      "17\n",
      "18\n",
      "19\n",
      "20\n",
      "21\n",
      "22\n",
      "23\n",
      "24\n",
      "25\n",
      "26\n",
      "27\n",
      "28\n",
      "29\n",
      "30\n",
      "31\n",
      "32\n",
      "33\n",
      "34\n",
      "35\n",
      "36\n",
      "37\n",
      "38\n",
      "39\n",
      "40\n",
      "41\n",
      "42\n",
      "43\n",
      "44\n",
      "45\n",
      "46\n",
      "47\n",
      "48\n",
      "49\n",
      "50\n",
      "51\n",
      "52\n",
      "53\n",
      "54\n",
      "55\n",
      "56\n",
      "57\n",
      "58\n",
      "59\n",
      "60\n",
      "61\n",
      "62\n",
      "63\n",
      "64\n",
      "65\n",
      "66\n",
      "67\n",
      "68\n",
      "69\n",
      "70\n",
      "71\n",
      "72\n",
      "73\n",
      "74\n",
      "75\n",
      "76\n",
      "77\n",
      "78\n",
      "79\n"
     ]
    }
   ],
   "source": [
    "sample_size = 150_000\n",
    "\n",
    "xx_correlators = []\n",
    "for idx in range(80):\n",
    "    print(idx)\n",
    "    xx_correlators.append(x_correlator(0, idx, sample_size, decoder))\n",
    "\n",
    "np.save(f\"{name}_xx_correlators\", xx_correlators)\n",
    "\n",
    "zz_correlators = z_correlator(sample_size, decoder)\n",
    "\n",
    "np.save(f\"{name}_zz_correlators\", zz_correlators)"
   ]
  },
  {
   "cell_type": "code",
   "execution_count": null,
   "id": "4e2794f1",
   "metadata": {},
   "outputs": [],
   "source": [
    "plt.plot(xx_correlators)"
   ]
  },
  {
   "cell_type": "code",
   "execution_count": 58,
   "id": "7325ed17",
   "metadata": {},
   "outputs": [
    {
     "data": {
      "text/plain": [
       "'    \\nzz_correlators25 = []\\nfor idx in range(decoder.sequence_length-1):\\n    zz_correlators25.append(z_correlator(24, idx, sample_size, decoder))\\n\\nnp.save(f\"{name}_zz_correlators25\", zz_correlators25)'"
      ]
     },
     "execution_count": 58,
     "metadata": {},
     "output_type": "execute_result"
    }
   ],
   "source": [
    "sample_size = 150_000\n",
    "\n",
    "xx_correlators25 = []\n",
    "for idx in range(80):\n",
    "    xx_correlators25.append(x_correlator(24, idx, sample_size, decoder))\n",
    "\n",
    "np.save(f\"{name}_xx_correlators25\", xx_correlators25)\n",
    "\n",
    "zz_correlators25 = []\n",
    "for idx in range(decoder.sequence_length-1):\n",
    "    zz_correlators25.append(z_correlator(24, idx, sample_size, decoder))\n",
    "\n",
    "np.save(f\"{name}_zz_correlators25\", zz_correlators25)"
   ]
  },
  {
   "cell_type": "code",
   "execution_count": 63,
   "id": "2b1dbeb0",
   "metadata": {},
   "outputs": [
    {
     "data": {
      "text/plain": [
       "[<matplotlib.lines.Line2D at 0x208fec88f48>]"
      ]
     },
     "execution_count": 63,
     "metadata": {},
     "output_type": "execute_result"
    },
    {
     "data": {
      "image/png": "[encoded data removed]",
      "text/plain": [
       "<Figure size 432x288 with 1 Axes>"
      ]
     },
     "metadata": {
      "needs_background": "light"
     },
     "output_type": "display_data"
    }
   ],
   "source": [
    "plt.plot(xx_correlators25)"
   ]
  },
  {
   "cell_type": "markdown",
   "id": "320c7d92",
   "metadata": {},
   "source": [
    "## Expectations\n",
    "\n",
    "$$\n",
    "\\langle S^x_n \\rangle\n",
    "$$\n",
    "\n",
    "$$\n",
    "\\langle S^z_n \\rangle\n",
    "$$"
   ]
  },
  {
   "cell_type": "code",
   "execution_count": 59,
   "id": "6c4bbdc6",
   "metadata": {},
   "outputs": [
    {
     "name": "stdout",
     "output_type": "stream",
     "text": [
      "0\n",
      "1\n",
      "2\n",
      "3\n",
      "4\n",
      "5\n",
      "6\n",
      "7\n",
      "8\n",
      "9\n",
      "10\n",
      "11\n",
      "12\n",
      "13\n",
      "14\n",
      "15\n",
      "16\n",
      "17\n",
      "18\n",
      "19\n",
      "20\n",
      "21\n",
      "22\n",
      "23\n",
      "24\n",
      "25\n",
      "26\n",
      "27\n",
      "28\n",
      "29\n",
      "30\n",
      "31\n",
      "32\n",
      "33\n",
      "34\n",
      "35\n",
      "36\n",
      "37\n",
      "38\n",
      "39\n",
      "40\n",
      "41\n",
      "42\n",
      "43\n",
      "44\n",
      "45\n",
      "46\n",
      "47\n",
      "48\n",
      "49\n",
      "50\n",
      "51\n",
      "52\n",
      "53\n",
      "54\n",
      "55\n",
      "56\n",
      "57\n",
      "58\n",
      "59\n",
      "60\n",
      "61\n",
      "62\n",
      "63\n",
      "64\n",
      "65\n",
      "66\n",
      "67\n",
      "68\n",
      "69\n",
      "70\n",
      "71\n",
      "72\n",
      "73\n",
      "74\n",
      "75\n",
      "76\n",
      "77\n",
      "78\n",
      "79\n"
     ]
    },
    {
     "data": {
      "text/plain": [
       "'\\nz_expectations = []\\nfor idx in range(1, decoder.sequence_length-1):\\n    z_expectations.append(z_expectation(idx, sample_size, decoder))\\n\\nnp.save(f\"{name}_z_expectations\", z_expectations)\\n'"
      ]
     },
     "execution_count": 59,
     "metadata": {},
     "output_type": "execute_result"
    }
   ],
   "source": [
    "sample_size = 150_000\n",
    "\n",
    "x_expectations = []\n",
    "for idx in range(80):\n",
    "    print(idx)\n",
    "    x_expectations.append(x_expectation(idx, sample_size, decoder))\n",
    "\n",
    "np.save(f\"{name}_x_expectations\", x_expectations)\n",
    "\n",
    "\n",
    "z_expectations = []\n",
    "for idx in range(1, decoder.sequence_length-1):\n",
    "    z_expectations.append(z_expectation(idx, sample_size, decoder))\n",
    "\n",
    "np.save(f\"{name}_z_expectations\", z_expectations)\n"
   ]
  },
  {
   "cell_type": "code",
   "execution_count": 60,
   "id": "087acd7e",
   "metadata": {},
   "outputs": [
    {
     "data": {
      "text/plain": [
       "[<matplotlib.lines.Line2D at 0x20888bcdb88>]"
      ]
     },
     "execution_count": 60,
     "metadata": {},
     "output_type": "execute_result"
    },
    {
     "data": {
      "image/png": "[encoded data removed]",
      "text/plain": [
       "<Figure size 432x288 with 1 Axes>"
      ]
     },
     "metadata": {
      "needs_background": "light"
     },
     "output_type": "display_data"
    }
   ],
   "source": [
    "plt.plot(x_expectations)"
   ]
  },
  {
   "cell_type": "code",
   "execution_count": 62,
   "id": "2cf51e56",
   "metadata": {},
   "outputs": [
    {
     "ename": "NameError",
     "evalue": "name 'xx_correlations' is not defined",
     "output_type": "error",
     "traceback": [
      "\u001b[1;31m---------------------------------------------------------------------------\u001b[0m",
      "\u001b[1;31mNameError\u001b[0m                                 Traceback (most recent call last)",
      "\u001b[1;32m~\\AppData\\Local\\Temp\\ipykernel_23300\\717072567.py\u001b[0m in \u001b[0;36m<module>\u001b[1;34m\u001b[0m\n\u001b[1;32m----> 1\u001b[1;33m \u001b[0mplt\u001b[0m\u001b[1;33m.\u001b[0m\u001b[0mplot\u001b[0m\u001b[1;33m(\u001b[0m\u001b[0mxx_correlations\u001b[0m\u001b[1;33m)\u001b[0m\u001b[1;33m\u001b[0m\u001b[1;33m\u001b[0m\u001b[0m\n\u001b[0m",
      "\u001b[1;31mNameError\u001b[0m: name 'xx_correlations' is not defined"
     ]
    }
   ],
   "source": [
    "plt.plot(xx_correlations)"
   ]
  },
  {
   "cell_type": "code",
   "execution_count": 18,
   "id": "67a94e5f",
   "metadata": {},
   "outputs": [],
   "source": [
    "import matplotlib.pyplot as plt"
   ]
  },
  {
   "cell_type": "code",
   "execution_count": 19,
   "id": "aebf8ee6",
   "metadata": {},
   "outputs": [
    {
     "data": {
      "text/plain": [
       "[<matplotlib.lines.Line2D at 0x223e28a9488>]"
      ]
     },
     "execution_count": 19,
     "metadata": {},
     "output_type": "execute_result"
    },
    {
     "data": {
      "image/png": "[encoded data removed]",
      "text/plain": [
       "<Figure size 432x288 with 1 Axes>"
      ]
     },
     "metadata": {
      "needs_background": "light"
     },
     "output_type": "display_data"
    }
   ],
   "source": [
    "plt.plot(z_expectations)"
   ]
  },
  {
   "cell_type": "markdown",
   "id": "6c8335fe",
   "metadata": {},
   "source": [
    "## 2-Renyi's\n",
    "\n",
    "Now lets sweep across regions"
   ]
  },
  {
   "cell_type": "code",
   "execution_count": null,
   "id": "a3ae9843",
   "metadata": {},
   "outputs": [],
   "source": [
    "second_renyis = []\n",
    "\n",
    "for idx in range(1, decoder.sequence_length-1)\n",
    "    trace = compute_nth_renyi(\n",
    "        n=2,\n",
    "        batch_size=100,\n",
    "        region=(0,idx),\n",
    "        reps=150\n",
    "    )\n",
    "    \n",
    "    second_renyis.append(\n",
    "        -np.log(trace)\n",
    "    )"
   ]
  },
  {
   "cell_type": "code",
   "execution_count": null,
   "id": "0f87ea1e",
   "metadata": {},
   "outputs": [],
   "source": [
    "np.save(f\"{name}_second_renyis\", second_renyis)"
   ]
  },
  {
   "cell_type": "code",
   "execution_count": null,
   "id": "dfdda57e",
   "metadata": {},
   "outputs": [],
   "source": []
  }
 ],
 "metadata": {
  "kernelspec": {
   "display_name": "Python 3 (ipykernel)",
   "language": "python",
   "name": "python3"
  },
  "language_info": {
   "codemirror_mode": {
    "name": "ipython",
    "version": 3
   },
   "file_extension": ".py",
   "mimetype": "text/x-python",
   "name": "python",
   "nbconvert_exporter": "python",
   "pygments_lexer": "ipython3",
   "version": "3.7.10"
  },
  "varInspector": {
   "cols": {
    "lenName": 16,
    "lenType": 16,
    "lenVar": 40
   },
   "kernels_config": {
    "python": {
     "delete_cmd_postfix": "",
     "delete_cmd_prefix": "del ",
     "library": "var_list.py",
     "varRefreshCmd": "print(var_dic_list())"
    },
    "r": {
     "delete_cmd_postfix": ") ",
     "delete_cmd_prefix": "rm(",
     "library": "var_list.r",
     "varRefreshCmd": "cat(var_dic_list()) "
    }
   },
   "types_to_exclude": [
    "module",
    "function",
    "builtin_function_or_method",
    "instance",
    "_Feature"
   ],
   "window_display": false
  }
 },
 "nbformat": 4,
 "nbformat_minor": 5
}
