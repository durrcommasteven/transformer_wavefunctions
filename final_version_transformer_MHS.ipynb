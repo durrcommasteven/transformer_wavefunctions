{
 "cells": [
  {
   "attachments": {},
   "cell_type": "markdown",
   "id": "9acaa4ab",
   "metadata": {},
   "source": [
    "Here we define the way we'll be training the large (100 site) MHS model"
   ]
  },
  {
   "cell_type": "code",
   "execution_count": 1,
   "id": "95655a28",
   "metadata": {},
   "outputs": [
    {
     "name": "stderr",
     "output_type": "stream",
     "text": [
      "/Users/sda1048/Desktop/qt/transformer_wavefunctions-1/qt_env/lib/python3.10/site-packages/tensorflow_addons/utils/tfa_eol_msg.py:23: UserWarning: \n",
      "\n",
      "TensorFlow Addons (TFA) has ended development and introduction of new features.\n",
      "TFA has entered a minimal maintenance and release mode until a planned end of life in May 2024.\n",
      "Please modify downstream libraries to take dependencies from other repositories in our TensorFlow community (e.g. Keras, Keras-CV, and Keras-NLP). \n",
      "\n",
      "For more information see: https://github.com/tensorflow/addons/issues/2807 \n",
      "\n",
      "  warnings.warn(\n"
     ]
    }
   ],
   "source": [
    "import tensorflow as tf \n",
    "import tensorflow_addons as tfa\n",
    "import numpy as np \n",
    "import matplotlib.pyplot as plt \n",
    "import itertools\n",
    "import copy\n",
    "from typing import *\n",
    "from TransformerWF import *\n",
    "from entanglement_tools import *\n",
    "import cirq\n",
    "from numpy import linalg as LA\n",
    "from scramble_spins import scramble\n",
    "import json\n",
    "import tqdm"
   ]
  },
  {
   "cell_type": "code",
   "execution_count": 2,
   "id": "4c35b726",
   "metadata": {},
   "outputs": [
    {
     "name": "stdout",
     "output_type": "stream",
     "text": [
      "Num GPUs Available:  1\n"
     ]
    }
   ],
   "source": [
    "print(\"Num GPUs Available: \", len(tf.config.list_physical_devices('GPU')))"
   ]
  },
  {
   "cell_type": "code",
   "execution_count": 3,
   "id": "931bd767",
   "metadata": {},
   "outputs": [],
   "source": [
    "def inverse_d_squared(i, j, N):\n",
    "    \"\"\"\n",
    "    d in equation 8\n",
    "    https://arxiv.org/pdf/1701.04844.pdf\n",
    "    \"\"\"\n",
    "    mask = 1*((i-j)!=0)\n",
    "    \n",
    "    argument = np.pi*(j-i)/N\n",
    "    \n",
    "    d_value = N*np.abs(np.sin(argument))/np.pi\n",
    "    \n",
    "    #print(np.max(d_value))\n",
    "    \n",
    "    outputs = mask / (d_value**2 + (1-mask))\n",
    "    \n",
    "    return outputs"
   ]
  },
  {
   "cell_type": "code",
   "execution_count": 4,
   "id": "4a085213",
   "metadata": {},
   "outputs": [
    {
     "name": "stderr",
     "output_type": "stream",
     "text": [
      "/var/folders/6f/mpw84359147fdq3dpg2p7k0r000_s8/T/ipykernel_10394/2614190944.py:1: RuntimeWarning: divide by zero encountered in log\n",
      "  plt.imshow(np.log(inverse_d_squared(np.arange(50)[:, None], np.arange(50)[None, :], N=50)), interpolation=None)\n"
     ]
    },
    {
     "data": {
      "text/plain": [
       "<matplotlib.image.AxesImage at 0x2e2fc97b0>"
      ]
     },
     "execution_count": 4,
     "metadata": {},
     "output_type": "execute_result"
    },
    {
     "data": {
      "image/png": "[encoded data removed]",
      "text/plain": [
       "<Figure size 640x480 with 1 Axes>"
      ]
     },
     "metadata": {},
     "output_type": "display_data"
    }
   ],
   "source": [
    "plt.imshow(np.log(inverse_d_squared(np.arange(50)[:, None], np.arange(50)[None, :], N=50)), interpolation=None)"
   ]
  },
  {
   "cell_type": "code",
   "execution_count": 5,
   "id": "a66ac0c0",
   "metadata": {},
   "outputs": [],
   "source": [
    "def give_flip_matrix(i, config_length):\n",
    "    \"\"\"\n",
    "    give a matrix with shape (length-1, length) that has\n",
    "    the ith element flipped, along with every other element\n",
    "    \"\"\"\n",
    "    flip_matrix = np.array(\n",
    "        [\n",
    "            [-1 if k in (i, j) else 1 for k in range(config_length)] \n",
    "            for j in range(config_length) if j!=i\n",
    "        ]\n",
    "    )\n",
    "    return flip_matrix"
   ]
  },
  {
   "cell_type": "code",
   "execution_count": 6,
   "id": "57326efd",
   "metadata": {},
   "outputs": [],
   "source": [
    "def give_all_flips_i(\n",
    "    configuration: np.array,\n",
    "    i: int,\n",
    "):\n",
    "    \"\"\"\n",
    "    given states of shape (batch_size, length), return the states with \n",
    "    the ith, jth spins flipped. \n",
    "    The output should be of shape \n",
    "    (batch_size, length-1, length)\n",
    "    \"\"\"\n",
    "    batch_size = configuration.shape[0]\n",
    "    config_length = configuration.shape[1]\n",
    "    \n",
    "    flip_matrix = give_flip_matrix(i, config_length)\n",
    "    # note this has shape (length-1, length)\n",
    "    \n",
    "    flipped_states = np.einsum(\"bl,hl->bhl\", 2*configuration - 1, flip_matrix)\n",
    "    flipped_states = ((flipped_states+1)/2).astype(np.int32)\n",
    "    \n",
    "    return flipped_states"
   ]
  },
  {
   "cell_type": "code",
   "execution_count": 7,
   "id": "fc59eb24",
   "metadata": {},
   "outputs": [],
   "source": [
    "def mhs_E_loc(configuration, decoder):\n",
    "    \"\"\"\n",
    "    configuration should have shape\n",
    "    \n",
    "    config_length\n",
    "    \n",
    "    we need to consider the same state, and the state \n",
    "    with each site flipped.\n",
    "    \n",
    "    return the real and imaginary parts of E_loc\n",
    "    \n",
    "    if scramble, then un-scramble states before evaluating their ELOC values\n",
    "    \"\"\"\n",
    "    batch_size = configuration.shape[0]\n",
    "    config_length = configuration.shape[1]\n",
    "    \n",
    "    \"\"\"\n",
    "    evaluate wavefunctions\n",
    "    \"\"\"\n",
    "    log_probs, total_phases = decoder.evaluate_state(\n",
    "        configuration,\n",
    "    )\n",
    "    \n",
    "    \"\"\"\n",
    "    first we include z contributions\n",
    "    \"\"\"\n",
    "    inverse_d_squared_array = inverse_d_squared(\n",
    "        np.arange(config_length)[:, None], \n",
    "        np.arange(config_length)[None, :], \n",
    "        N=config_length\n",
    "    )\n",
    "    \n",
    "    # divide by 2 for double counting   \n",
    "    d2 = np.einsum(\n",
    "        \"ij,bi,bj->b\", \n",
    "        inverse_d_squared_array, \n",
    "        1-2*configuration, \n",
    "        1-2*configuration\n",
    "    )/2\n",
    "    \n",
    "    E_loc_real_part = d2\n",
    "    E_loc_imag_part = 0\n",
    "    \n",
    "    \"\"\"\n",
    "    Now include off-diagonal contributions\n",
    "    \n",
    "    To be safe, and allow for large system sizes without\n",
    "    overwhelming memory, Im going to go through this iteratively\n",
    "    \"\"\"\n",
    "    for i in range(config_length):\n",
    "        \"\"\"\n",
    "        First compute all flipped states with i and\n",
    "        a different index flipped.\n",
    "        \n",
    "        Then evaluate the wavefunction for these states\n",
    "        \"\"\"\n",
    "        flipped_states = give_all_flips_i(\n",
    "            configuration=configuration,\n",
    "            i=i,\n",
    "        )\n",
    "        \n",
    "        reshaped_flipped_states = np.reshape(\n",
    "            flipped_states, \n",
    "            (-1, config_length)\n",
    "        )\n",
    "        \n",
    "        flipped_log_prob_batches, flipped_total_phases_batches = [], []\n",
    "        \n",
    "        flipped_batch_size = reshaped_flipped_states.shape[0]\n",
    "        \n",
    "        for batch_idx in range(int(reshaped_flipped_states.shape[0]//flipped_batch_size)+1):\n",
    "            \n",
    "            flipped_log_probs, flipped_total_phases = decoder.evaluate_state(\n",
    "                reshaped_flipped_states[batch_idx*flipped_batch_size: (batch_idx+1)*flipped_batch_size],\n",
    "            )\n",
    "            \n",
    "            flipped_total_phases_batches.append(flipped_total_phases.numpy())\n",
    "            flipped_log_prob_batches.append(flipped_log_probs.numpy())\n",
    "        \n",
    "        flipped_total_phases = tf.concat(flipped_total_phases_batches, 0)\n",
    "        flipped_log_probs = tf.concat(flipped_log_prob_batches, 0)\n",
    "        \n",
    "        flipped_total_phases = tf.reshape(flipped_total_phases, (batch_size, -1))\n",
    "        flipped_log_probs = tf.reshape(flipped_log_probs, (batch_size, -1))\n",
    "        \n",
    "        assert flipped_total_phases.shape == (batch_size, config_length-1)\n",
    "        assert flipped_log_probs.shape == (batch_size, config_length-1)\n",
    "        \n",
    "        \"\"\"\n",
    "        The coefficient here is (s_i*s_j - 1)\n",
    "        multiply each flipped contribution by this coefficient\n",
    "        \"\"\"\n",
    "        \n",
    "        spins = 1-2*configuration\n",
    "        \n",
    "        sj_values = np.hstack(\n",
    "            [spins[:, :i], spins[:, i+1:]]\n",
    "        )\n",
    "        si_values = spins[:, i]\n",
    "        \n",
    "        d_values = np.array(\n",
    "            [\n",
    "                inverse_d_squared(i, j, N=config_length) \n",
    "                for j in range(config_length) if j!=i\n",
    "            ]\n",
    "        )\n",
    "        \n",
    "        current_coefficients = (si_values[:, None] * sj_values - 1)*d_values[None, :]\n",
    "        \n",
    "        ratio_mags = tf.math.exp(\n",
    "            (1/2)*(flipped_log_probs - log_probs[..., None])\n",
    "        )\n",
    "\n",
    "        ratio_real_part = ratio_mags*np.cos(-total_phases[..., None] + flipped_total_phases)\n",
    "        ratio_imag_part = ratio_mags*np.sin(-total_phases[..., None] + flipped_total_phases)\n",
    "        \n",
    "        assert ratio_real_part.shape == (batch_size, config_length-1)\n",
    "        assert ratio_imag_part.shape == (batch_size, config_length-1)\n",
    "        \n",
    "        # again dividing by 2 to avoid double counting \n",
    "        E_loc_real_part += np.einsum(\n",
    "            \"bj,bj->b\",\n",
    "            ratio_real_part,\n",
    "            current_coefficients,\n",
    "        )/2\n",
    "        E_loc_imag_part += np.einsum(\n",
    "            \"bj,bj->b\",\n",
    "            ratio_imag_part,\n",
    "            current_coefficients,\n",
    "        )/2\n",
    "    \n",
    "    assert E_loc_real_part.shape[0]==batch_size\n",
    "    assert E_loc_imag_part.shape[0]==batch_size\n",
    "    \n",
    "    return E_loc_real_part, E_loc_imag_part"
   ]
  },
  {
   "cell_type": "code",
   "execution_count": 8,
   "id": "92986440",
   "metadata": {},
   "outputs": [],
   "source": [
    "class CustomSchedule(tf.keras.optimizers.schedules.LearningRateSchedule):\n",
    "    def __init__(self, d_model, warmup_steps=400, final_step = 1000, minimum_step_size = 10**-8):\n",
    "        super(CustomSchedule, self).__init__()\n",
    "\n",
    "        self.d_model = d_model\n",
    "        self.d_model = tf.cast(self.d_model, tf.float32)\n",
    "\n",
    "        self.warmup_steps = warmup_steps\n",
    "        self.final_step = final_step\n",
    "        self.minimum_step_size = minimum_step_size\n",
    "        \n",
    "        self.initial_slope = tf.math.rsqrt(self.d_model*self.warmup_steps)/self.warmup_steps\n",
    "        \n",
    "        self.c = tf.math.rsqrt(self.d_model*self.warmup_steps)\n",
    "        \n",
    "        self.rate = -(final_step - warmup_steps)/np.log(minimum_step_size)\n",
    "        \n",
    "    def __call__(self, step):\n",
    "        \n",
    "        if step<self.warmup_steps:\n",
    "            return self.initial_slope*step\n",
    "        \n",
    "        return self.c*np.exp(-(step-self.warmup_steps)/self.rate)"
   ]
  },
  {
   "attachments": {},
   "cell_type": "markdown",
   "id": "cee952a1",
   "metadata": {},
   "source": [
    "# sanity checking\n",
    "\n",
    "_Any_ change to $E_{loc}$ should be followed by a check to ensure that the resulting trained state matches the GS on a small system size. "
   ]
  },
  {
   "cell_type": "code",
   "execution_count": 9,
   "id": "fb74d212",
   "metadata": {},
   "outputs": [],
   "source": [
    "\"\"\"\n",
    "Do we want to check this all works on a small system size\n",
    "\"\"\"\n",
    "check_eloc = False\n",
    "\n",
    "if check_eloc:\n",
    "    \n",
    "    check_indices = [0]+[int(index) for index in np.logspace(0, 3, 20)]\n",
    "    \n",
    "    embedding_dimension=15\n",
    "    \n",
    "    test_learning_rate = CustomSchedule(\n",
    "        d_model=embedding_dimension, \n",
    "        warmup_steps=250, \n",
    "        final_step = 1000, \n",
    "        minimum_step_size = 0.001,\n",
    "    )\n",
    "\n",
    "    test_optimizer = tf.keras.optimizers.Adam(\n",
    "        test_learning_rate, \n",
    "        beta_1=0.9, \n",
    "        beta_2=0.98, \n",
    "        epsilon=1e-9,\n",
    "    )\n",
    "    \n",
    "    test_sequence_length=10+1\n",
    "\n",
    "    test_decoder=TransformerDecoder( \n",
    "        num_heads=2, \n",
    "        key_dim=embedding_dimension, \n",
    "        value_dim=embedding_dimension, \n",
    "        embedding_dim=embedding_dimension, \n",
    "        dictionary_size=2,\n",
    "        decoding_reps=2, \n",
    "        width=15, \n",
    "        depth=2,\n",
    "        name=None,\n",
    "        sequence_length=test_sequence_length,\n",
    "        dropout=0,\n",
    "        attention_dropout=0,\n",
    "        final_temperature=1,\n",
    "    )\n",
    "    \n",
    "    initial_training_reps = 1000\n",
    "    Ns=50\n",
    "    \n",
    "    test_real_energies = []\n",
    "    test_imag_energies = []\n",
    "\n",
    "    check_eloc_progress_bar = tqdm.tqdm(total=initial_training_reps, unit=' steps', ncols=100)\n",
    "\n",
    "    for current_training_rep in range(initial_training_reps):\n",
    "\n",
    "        derivatives, (e_real, e_imag) = test_decoder.evaluate_gradients(Ns, mhs_E_loc, reps=1)\n",
    "\n",
    "        test_optimizer.apply_gradients(zip(derivatives, test_decoder.trainable_weights))\n",
    "\n",
    "        test_real_energies.append(e_real)\n",
    "        test_imag_energies.append(e_imag)\n",
    "        \n",
    "        if current_training_rep%5==0 and current_training_rep>0:\n",
    "            check_eloc_progress_bar.set_description(f\"Loss: {np.mean(test_real_energies[-5:]):.4f}\")\n",
    "        \n",
    "        check_eloc_progress_bar.update(1)\n",
    "    \n",
    "    \"\"\"\n",
    "    compute overlap with exact ground state\n",
    "    \"\"\"\n",
    "    check_eloc_progress_bar.close()\n",
    "    \n",
    "    print(\"\\n comparing to exact diagonalization \\n\")\n",
    "    \n",
    "    mhs_ham = cirq.PauliSum()\n",
    "\n",
    "    for i in range(10):\n",
    "        for j in range(10):\n",
    "            if i!=j:\n",
    "                coefficient = inverse_d_squared(i, j, N=10)\n",
    "\n",
    "                sub_sum = cirq.PauliSum()\n",
    "\n",
    "                sub_sum += cirq.Z(cirq.LineQubit(i))*cirq.Z(cirq.LineQubit(j))\n",
    "                sub_sum -= cirq.X(cirq.LineQubit(i))*cirq.X(cirq.LineQubit(j))\n",
    "                sub_sum -= cirq.Y(cirq.LineQubit(i))*cirq.Y(cirq.LineQubit(j))\n",
    "\n",
    "                mhs_ham += sub_sum*coefficient/2\n",
    "    \n",
    "    ham_mat = mhs_ham.matrix()\n",
    "\n",
    "    ws, vs = LA.eigh(ham_mat)\n",
    "\n",
    "    gs = get_explicit_transformer_state(\n",
    "        test_decoder,\n",
    "        qubit_num=10,\n",
    "        assert_real=False,\n",
    "    )\n",
    "\n",
    "    overlap = np.abs(np.sum(gs*vs[:, 0]))\n",
    "    \n",
    "    print(f\"overlap: {overlap}\")\n",
    "    \n",
    "    plt.plot(np.abs(gs))\n",
    "    plt.title(\"Transformer Ground State\")\n",
    "    plt.show()\n",
    "    \n",
    "    plt.plot(np.abs(vs[:, 0]))\n",
    "    plt.title(\"ED Ground State\")\n",
    "    plt.show()\n",
    "    \n",
    "    # free up any space this may have taken\n",
    "    del test_decoder"
   ]
  },
  {
   "attachments": {},
   "cell_type": "markdown",
   "id": "68b57287",
   "metadata": {},
   "source": [
    "# training the model"
   ]
  },
  {
   "cell_type": "code",
   "execution_count": 10,
   "id": "e363f660",
   "metadata": {},
   "outputs": [],
   "source": [
    "embedding_dimension=15\n",
    "sequence_length=100+1\n",
    "\n",
    "params = {\n",
    "    \"num_heads\": 2, \n",
    "    \"key_dim\": embedding_dimension, \n",
    "    \"value_dim\": embedding_dimension, \n",
    "    \"embedding_dim\": embedding_dimension, \n",
    "    \"dictionary_size\": 2,\n",
    "    \"decoding_reps\": 2, \n",
    "    \"width\": None, \n",
    "    \"depth\": 2,\n",
    "    \"sequence_length\": sequence_length,\n",
    "}"
   ]
  },
  {
   "cell_type": "code",
   "execution_count": 11,
   "id": "bd85a1ef",
   "metadata": {},
   "outputs": [],
   "source": [
    "\"\"\"\n",
    "We choose a random seed for this initialization\n",
    "\"\"\"\n",
    "seed = 1"
   ]
  },
  {
   "cell_type": "code",
   "execution_count": 12,
   "id": "ae5d782c",
   "metadata": {},
   "outputs": [],
   "source": [
    "name = f\"length_100_mhs_seed_{seed}\"\n",
    "\n",
    "with open(f\"params_{name}.json\", \"w\") as outfile:\n",
    "    json.dump(params, outfile)"
   ]
  },
  {
   "cell_type": "code",
   "execution_count": 13,
   "id": "9761e35c",
   "metadata": {},
   "outputs": [
    {
     "name": "stderr",
     "output_type": "stream",
     "text": [
      "2023-08-02 15:41:06.944387: I metal_plugin/src/device/metal_device.cc:1154] Metal device set to: Apple M2 Max\n",
      "2023-08-02 15:41:06.944411: I metal_plugin/src/device/metal_device.cc:296] systemMemory: 64.00 GB\n",
      "2023-08-02 15:41:06.944416: I metal_plugin/src/device/metal_device.cc:313] maxCacheSize: 24.00 GB\n",
      "2023-08-02 15:41:06.944495: I tensorflow/core/common_runtime/pluggable_device/pluggable_device_factory.cc:303] Could not identify NUMA node of platform GPU ID 0, defaulting to 0. Your kernel may not have been built with NUMA support.\n",
      "2023-08-02 15:41:06.944732: I tensorflow/core/common_runtime/pluggable_device/pluggable_device_factory.cc:269] Created TensorFlow device (/job:localhost/replica:0/task:0/device:GPU:0 with 0 MB memory) -> physical PluggableDevice (device: 0, name: METAL, pci bus id: <undefined>)\n",
      "/Users/sda1048/Desktop/qt/transformer_wavefunctions-1/qt_env/lib/python3.10/site-packages/keras/src/initializers/initializers.py:120: UserWarning: The initializer GlorotUniform is unseeded and being called multiple times, which will return identical values each time (even if the initializer is unseeded). Please update your code to provide a seed to the initializer, or avoid using the same initializer instance more than once.\n",
      "  warnings.warn(\n"
     ]
    }
   ],
   "source": [
    "tf.random.set_seed(seed=seed)\n",
    "\n",
    "decoder=TransformerDecoder(\n",
    "    **params\n",
    ")"
   ]
  },
  {
   "cell_type": "code",
   "execution_count": 14,
   "id": "e1a281ca",
   "metadata": {},
   "outputs": [
    {
     "name": "stdout",
     "output_type": "stream",
     "text": [
      "number of params:  3922\n"
     ]
    }
   ],
   "source": [
    "print(\"number of params: \", np.sum([np.prod(array.shape) for array in decoder.trainable_weights]))"
   ]
  },
  {
   "cell_type": "code",
   "execution_count": 15,
   "id": "41c9ad4a",
   "metadata": {},
   "outputs": [],
   "source": [
    "learning_rate = CustomSchedule(\n",
    "    d_model=embedding_dimension, \n",
    "    warmup_steps=400, \n",
    "    final_step = 2000, \n",
    "    minimum_step_size = 0.0001,\n",
    ")\n",
    "\n",
    "optimizer = tf.keras.optimizers.legacy.Adam(learning_rate, beta_1=0.9, beta_2=0.98, epsilon=1e-9)"
   ]
  },
  {
   "cell_type": "code",
   "execution_count": 16,
   "id": "4f66a153",
   "metadata": {},
   "outputs": [
    {
     "data": {
      "image/png": "[encoded data removed]",
      "text/plain": [
       "<Figure size 640x480 with 1 Axes>"
      ]
     },
     "metadata": {},
     "output_type": "display_data"
    }
   ],
   "source": [
    "plt.plot([learning_rate(float(n)) for n in range(2000)])\n",
    "plt.title(\"learning rate\")\n",
    "plt.show()"
   ]
  },
  {
   "cell_type": "code",
   "execution_count": 17,
   "id": "9c88e2f1",
   "metadata": {},
   "outputs": [],
   "source": [
    "real_energies = []\n",
    "imag_energies = []"
   ]
  },
  {
   "cell_type": "code",
   "execution_count": 18,
   "id": "e7250c72",
   "metadata": {},
   "outputs": [
    {
     "name": "stderr",
     "output_type": "stream",
     "text": [
      "Loss: -125.1528:   1%|▍                                | 24/2000 [1:02:13<160:48:30, 292.97s/ steps]"
     ]
    },
    {
     "ename": "KeyboardInterrupt",
     "evalue": "",
     "output_type": "error",
     "traceback": [
      "\u001b[0;31m---------------------------------------------------------------------------\u001b[0m",
      "\u001b[0;31mKeyboardInterrupt\u001b[0m                         Traceback (most recent call last)",
      "Cell \u001b[0;32mIn[18], line 7\u001b[0m\n\u001b[1;32m      3\u001b[0m progress_bar \u001b[39m=\u001b[39m tqdm\u001b[39m.\u001b[39mtqdm(total\u001b[39m=\u001b[39mlearning_rate\u001b[39m.\u001b[39mfinal_step, unit\u001b[39m=\u001b[39m\u001b[39m'\u001b[39m\u001b[39m steps\u001b[39m\u001b[39m'\u001b[39m, ncols\u001b[39m=\u001b[39m\u001b[39m100\u001b[39m)\n\u001b[1;32m      5\u001b[0m \u001b[39mfor\u001b[39;00m idx \u001b[39min\u001b[39;00m \u001b[39mrange\u001b[39m(learning_rate\u001b[39m.\u001b[39mfinal_step):\n\u001b[0;32m----> 7\u001b[0m     derivatives, (e_real, e_imag) \u001b[39m=\u001b[39m decoder\u001b[39m.\u001b[39;49mevaluate_gradients(Ns, mhs_E_loc)\n\u001b[1;32m      9\u001b[0m     optimizer\u001b[39m.\u001b[39mapply_gradients(\u001b[39mzip\u001b[39m(derivatives, decoder\u001b[39m.\u001b[39mtrainable_weights))\n\u001b[1;32m     11\u001b[0m     real_energies\u001b[39m.\u001b[39mappend(e_real)\n",
      "File \u001b[0;32m~/Desktop/qt/transformer_wavefunctions-1/TransformerWF.py:557\u001b[0m, in \u001b[0;36mTransformerDecoder.evaluate_gradients\u001b[0;34m(self, batch_size, local_energy_function, return_energy, reps, z_symmetric)\u001b[0m\n\u001b[1;32m    554\u001b[0m         \u001b[39mif\u001b[39;00m z_symmetric:\n\u001b[1;32m    555\u001b[0m             z_symmetric_reg \u001b[39m=\u001b[39m \u001b[39m10\u001b[39m\n\u001b[0;32m--> 557\u001b[0m             loss \u001b[39m+\u001b[39m\u001b[39m=\u001b[39m z_symmetric_reg \u001b[39m*\u001b[39m tf\u001b[39m.\u001b[39mreduce_sum(\n\u001b[1;32m    558\u001b[0m                 (total_flip_log_probs \u001b[39m-\u001b[39m log_probs) \u001b[39m*\u001b[39m\u001b[39m*\u001b[39m \u001b[39m2\u001b[39m\n\u001b[1;32m    559\u001b[0m             )\n\u001b[1;32m    561\u001b[0m     loss \u001b[39m/\u001b[39m\u001b[39m=\u001b[39m reps\n\u001b[1;32m    563\u001b[0m derivatives \u001b[39m=\u001b[39m tape\u001b[39m.\u001b[39mgradient(loss, \u001b[39mself\u001b[39m\u001b[39m.\u001b[39mtrainable_weights)\n",
      "Cell \u001b[0;32mIn[7], line 73\u001b[0m, in \u001b[0;36mmhs_E_loc\u001b[0;34m(configuration, decoder)\u001b[0m\n\u001b[1;32m     69\u001b[0m flipped_batch_size \u001b[39m=\u001b[39m reshaped_flipped_states\u001b[39m.\u001b[39mshape[\u001b[39m0\u001b[39m]\n\u001b[1;32m     71\u001b[0m \u001b[39mfor\u001b[39;00m batch_idx \u001b[39min\u001b[39;00m \u001b[39mrange\u001b[39m(\u001b[39mint\u001b[39m(reshaped_flipped_states\u001b[39m.\u001b[39mshape[\u001b[39m0\u001b[39m]\u001b[39m/\u001b[39m\u001b[39m/\u001b[39mflipped_batch_size)\u001b[39m+\u001b[39m\u001b[39m1\u001b[39m):\n\u001b[0;32m---> 73\u001b[0m     flipped_log_probs, flipped_total_phases \u001b[39m=\u001b[39m decoder\u001b[39m.\u001b[39;49mevaluate_state(\n\u001b[1;32m     74\u001b[0m         reshaped_flipped_states[batch_idx\u001b[39m*\u001b[39;49mflipped_batch_size: (batch_idx\u001b[39m+\u001b[39;49m\u001b[39m1\u001b[39;49m)\u001b[39m*\u001b[39;49mflipped_batch_size],\n\u001b[1;32m     75\u001b[0m     )\n\u001b[1;32m     77\u001b[0m     flipped_total_phases_batches\u001b[39m.\u001b[39mappend(flipped_total_phases\u001b[39m.\u001b[39mnumpy())\n\u001b[1;32m     78\u001b[0m     flipped_log_prob_batches\u001b[39m.\u001b[39mappend(flipped_log_probs\u001b[39m.\u001b[39mnumpy())\n",
      "File \u001b[0;32m~/Desktop/qt/transformer_wavefunctions-1/TransformerWF.py:445\u001b[0m, in \u001b[0;36mTransformerDecoder.evaluate_state\u001b[0;34m(self, state, z_symmetric)\u001b[0m\n\u001b[1;32m    442\u001b[0m         batch_size \u001b[39m=\u001b[39m state\u001b[39m.\u001b[39mshape[\u001b[39m0\u001b[39m]\n\u001b[1;32m    443\u001b[0m         length \u001b[39m=\u001b[39m state\u001b[39m.\u001b[39mshape[\u001b[39m1\u001b[39m]\n\u001b[0;32m--> 445\u001b[0m         conditional_logits, phases \u001b[39m=\u001b[39m \u001b[39mself\u001b[39;49m\u001b[39m.\u001b[39;49mcall(\n\u001b[1;32m    446\u001b[0m             inputs\u001b[39m=\u001b[39;49mpad_states(state),\n\u001b[1;32m    447\u001b[0m         )\n\u001b[1;32m    449\u001b[0m \u001b[39m        \u001b[39m\u001b[39m\"\"\"\u001b[39;00m\n\u001b[1;32m    450\u001b[0m \u001b[39m\t\tCollect the total phases (aside from the final phase)\u001b[39;00m\n\u001b[1;32m    451\u001b[0m \u001b[39m\t\tand the conditional\u001b[39;00m\n\u001b[1;32m    452\u001b[0m \u001b[39m\t\t\"\"\"\u001b[39;00m\n\u001b[1;32m    453\u001b[0m         total_phases \u001b[39m=\u001b[39m tf\u001b[39m.\u001b[39mreduce_sum(phases[:, \u001b[39m1\u001b[39m:], \u001b[39m-\u001b[39m\u001b[39m1\u001b[39m)\n",
      "File \u001b[0;32m~/Desktop/qt/transformer_wavefunctions-1/TransformerWF.py:347\u001b[0m, in \u001b[0;36mTransformerDecoder.call\u001b[0;34m(self, inputs)\u001b[0m\n\u001b[1;32m    344\u001b[0m mask \u001b[39m=\u001b[39m create_look_ahead_mask(embeddings\u001b[39m.\u001b[39mshape[\u001b[39m-\u001b[39m\u001b[39m2\u001b[39m])\n\u001b[1;32m    346\u001b[0m \u001b[39mfor\u001b[39;00m idx \u001b[39min\u001b[39;00m \u001b[39mrange\u001b[39m(\u001b[39mself\u001b[39m\u001b[39m.\u001b[39mdecoding_reps):\n\u001b[0;32m--> 347\u001b[0m     attention_output \u001b[39m=\u001b[39m \u001b[39mself\u001b[39;49m\u001b[39m.\u001b[39;49mattention_layers[idx](\n\u001b[1;32m    348\u001b[0m         [residual_stream, residual_stream], mask\u001b[39m=\u001b[39;49mmask\n\u001b[1;32m    349\u001b[0m     )\n\u001b[1;32m    351\u001b[0m     attention_output \u001b[39m=\u001b[39m \u001b[39mself\u001b[39m\u001b[39m.\u001b[39mdropout_layer(attention_output)\n\u001b[1;32m    353\u001b[0m     residual_stream \u001b[39m=\u001b[39m \u001b[39mself\u001b[39m\u001b[39m.\u001b[39mlayer_norms[idx][\u001b[39m0\u001b[39m](\n\u001b[1;32m    354\u001b[0m         residual_stream \u001b[39m+\u001b[39m attention_output\n\u001b[1;32m    355\u001b[0m     )\n",
      "File \u001b[0;32m~/Desktop/qt/transformer_wavefunctions-1/qt_env/lib/python3.10/site-packages/keras/src/utils/traceback_utils.py:65\u001b[0m, in \u001b[0;36mfilter_traceback.<locals>.error_handler\u001b[0;34m(*args, **kwargs)\u001b[0m\n\u001b[1;32m     63\u001b[0m filtered_tb \u001b[39m=\u001b[39m \u001b[39mNone\u001b[39;00m\n\u001b[1;32m     64\u001b[0m \u001b[39mtry\u001b[39;00m:\n\u001b[0;32m---> 65\u001b[0m     \u001b[39mreturn\u001b[39;00m fn(\u001b[39m*\u001b[39;49margs, \u001b[39m*\u001b[39;49m\u001b[39m*\u001b[39;49mkwargs)\n\u001b[1;32m     66\u001b[0m \u001b[39mexcept\u001b[39;00m \u001b[39mException\u001b[39;00m \u001b[39mas\u001b[39;00m e:\n\u001b[1;32m     67\u001b[0m     filtered_tb \u001b[39m=\u001b[39m _process_traceback_frames(e\u001b[39m.\u001b[39m__traceback__)\n",
      "File \u001b[0;32m~/Desktop/qt/transformer_wavefunctions-1/qt_env/lib/python3.10/site-packages/keras/src/engine/base_layer.py:1150\u001b[0m, in \u001b[0;36mLayer.__call__\u001b[0;34m(self, *args, **kwargs)\u001b[0m\n\u001b[1;32m   1145\u001b[0m     inputs \u001b[39m=\u001b[39m \u001b[39mself\u001b[39m\u001b[39m.\u001b[39m_maybe_cast_inputs(inputs, input_list)\n\u001b[1;32m   1147\u001b[0m \u001b[39mwith\u001b[39;00m autocast_variable\u001b[39m.\u001b[39menable_auto_cast_variables(\n\u001b[1;32m   1148\u001b[0m     \u001b[39mself\u001b[39m\u001b[39m.\u001b[39m_compute_dtype_object\n\u001b[1;32m   1149\u001b[0m ):\n\u001b[0;32m-> 1150\u001b[0m     outputs \u001b[39m=\u001b[39m call_fn(inputs, \u001b[39m*\u001b[39;49margs, \u001b[39m*\u001b[39;49m\u001b[39m*\u001b[39;49mkwargs)\n\u001b[1;32m   1152\u001b[0m \u001b[39mif\u001b[39;00m \u001b[39mself\u001b[39m\u001b[39m.\u001b[39m_activity_regularizer:\n\u001b[1;32m   1153\u001b[0m     \u001b[39mself\u001b[39m\u001b[39m.\u001b[39m_handle_activity_regularization(inputs, outputs)\n",
      "File \u001b[0;32m~/Desktop/qt/transformer_wavefunctions-1/qt_env/lib/python3.10/site-packages/keras/src/utils/traceback_utils.py:96\u001b[0m, in \u001b[0;36minject_argument_info_in_traceback.<locals>.error_handler\u001b[0;34m(*args, **kwargs)\u001b[0m\n\u001b[1;32m     94\u001b[0m bound_signature \u001b[39m=\u001b[39m \u001b[39mNone\u001b[39;00m\n\u001b[1;32m     95\u001b[0m \u001b[39mtry\u001b[39;00m:\n\u001b[0;32m---> 96\u001b[0m     \u001b[39mreturn\u001b[39;00m fn(\u001b[39m*\u001b[39;49margs, \u001b[39m*\u001b[39;49m\u001b[39m*\u001b[39;49mkwargs)\n\u001b[1;32m     97\u001b[0m \u001b[39mexcept\u001b[39;00m \u001b[39mException\u001b[39;00m \u001b[39mas\u001b[39;00m e:\n\u001b[1;32m     98\u001b[0m     \u001b[39mif\u001b[39;00m \u001b[39mhasattr\u001b[39m(e, \u001b[39m\"\u001b[39m\u001b[39m_keras_call_info_injected\u001b[39m\u001b[39m\"\u001b[39m):\n\u001b[1;32m     99\u001b[0m         \u001b[39m# Only inject info for the innermost failing call\u001b[39;00m\n",
      "File \u001b[0;32m~/Desktop/qt/transformer_wavefunctions-1/qt_env/lib/python3.10/site-packages/tensorflow_addons/layers/multihead_attention.py:213\u001b[0m, in \u001b[0;36mMultiHeadAttention.call\u001b[0;34m(self, inputs, training, mask)\u001b[0m\n\u001b[1;32m    208\u001b[0m         \u001b[39mraise\u001b[39;00m \u001b[39mValueError\u001b[39;00m(\n\u001b[1;32m    209\u001b[0m             \u001b[39m\"\u001b[39m\u001b[39mmask\u001b[39m\u001b[39m'\u001b[39m\u001b[39ms last dimension must be equal to the number of elements in \u001b[39m\u001b[39m'\u001b[39m\u001b[39mkey\u001b[39m\u001b[39m'\u001b[39m\u001b[39m\"\u001b[39m\n\u001b[1;32m    210\u001b[0m         )\n\u001b[1;32m    212\u001b[0m \u001b[39m# Linear transformations\u001b[39;00m\n\u001b[0;32m--> 213\u001b[0m query \u001b[39m=\u001b[39m tf\u001b[39m.\u001b[39;49meinsum(\u001b[39m\"\u001b[39;49m\u001b[39m...NI , HIO -> ...NHO\u001b[39;49m\u001b[39m\"\u001b[39;49m, query, \u001b[39mself\u001b[39;49m\u001b[39m.\u001b[39;49mquery_kernel)\n\u001b[1;32m    214\u001b[0m key \u001b[39m=\u001b[39m tf\u001b[39m.\u001b[39meinsum(\u001b[39m\"\u001b[39m\u001b[39m...MI , HIO -> ...MHO\u001b[39m\u001b[39m\"\u001b[39m, key, \u001b[39mself\u001b[39m\u001b[39m.\u001b[39mkey_kernel)\n\u001b[1;32m    215\u001b[0m value \u001b[39m=\u001b[39m tf\u001b[39m.\u001b[39meinsum(\u001b[39m\"\u001b[39m\u001b[39m...MI , HIO -> ...MHO\u001b[39m\u001b[39m\"\u001b[39m, value, \u001b[39mself\u001b[39m\u001b[39m.\u001b[39mvalue_kernel)\n",
      "File \u001b[0;32m~/Desktop/qt/transformer_wavefunctions-1/qt_env/lib/python3.10/site-packages/tensorflow/python/util/traceback_utils.py:150\u001b[0m, in \u001b[0;36mfilter_traceback.<locals>.error_handler\u001b[0;34m(*args, **kwargs)\u001b[0m\n\u001b[1;32m    148\u001b[0m filtered_tb \u001b[39m=\u001b[39m \u001b[39mNone\u001b[39;00m\n\u001b[1;32m    149\u001b[0m \u001b[39mtry\u001b[39;00m:\n\u001b[0;32m--> 150\u001b[0m   \u001b[39mreturn\u001b[39;00m fn(\u001b[39m*\u001b[39;49margs, \u001b[39m*\u001b[39;49m\u001b[39m*\u001b[39;49mkwargs)\n\u001b[1;32m    151\u001b[0m \u001b[39mexcept\u001b[39;00m \u001b[39mException\u001b[39;00m \u001b[39mas\u001b[39;00m e:\n\u001b[1;32m    152\u001b[0m   filtered_tb \u001b[39m=\u001b[39m _process_traceback_frames(e\u001b[39m.\u001b[39m__traceback__)\n",
      "File \u001b[0;32m~/Desktop/qt/transformer_wavefunctions-1/qt_env/lib/python3.10/site-packages/tensorflow/python/util/dispatch.py:1176\u001b[0m, in \u001b[0;36madd_dispatch_support.<locals>.decorator.<locals>.op_dispatch_handler\u001b[0;34m(*args, **kwargs)\u001b[0m\n\u001b[1;32m   1174\u001b[0m \u001b[39m# Fallback dispatch system (dispatch v1):\u001b[39;00m\n\u001b[1;32m   1175\u001b[0m \u001b[39mtry\u001b[39;00m:\n\u001b[0;32m-> 1176\u001b[0m   \u001b[39mreturn\u001b[39;00m dispatch_target(\u001b[39m*\u001b[39;49margs, \u001b[39m*\u001b[39;49m\u001b[39m*\u001b[39;49mkwargs)\n\u001b[1;32m   1177\u001b[0m \u001b[39mexcept\u001b[39;00m (\u001b[39mTypeError\u001b[39;00m, \u001b[39mValueError\u001b[39;00m):\n\u001b[1;32m   1178\u001b[0m   \u001b[39m# Note: convert_to_eager_tensor currently raises a ValueError, not a\u001b[39;00m\n\u001b[1;32m   1179\u001b[0m   \u001b[39m# TypeError, when given unexpected types.  So we need to catch both.\u001b[39;00m\n\u001b[1;32m   1180\u001b[0m   result \u001b[39m=\u001b[39m dispatch(op_dispatch_handler, args, kwargs)\n",
      "File \u001b[0;32m~/Desktop/qt/transformer_wavefunctions-1/qt_env/lib/python3.10/site-packages/tensorflow/python/ops/special_math_ops.py:762\u001b[0m, in \u001b[0;36meinsum\u001b[0;34m(equation, *inputs, **kwargs)\u001b[0m\n\u001b[1;32m    617\u001b[0m \u001b[39m@tf_export\u001b[39m(\u001b[39m'\u001b[39m\u001b[39meinsum\u001b[39m\u001b[39m'\u001b[39m, \u001b[39m'\u001b[39m\u001b[39mlinalg.einsum\u001b[39m\u001b[39m'\u001b[39m)\n\u001b[1;32m    618\u001b[0m \u001b[39m@dispatch\u001b[39m\u001b[39m.\u001b[39madd_dispatch_support\n\u001b[1;32m    619\u001b[0m \u001b[39mdef\u001b[39;00m \u001b[39meinsum\u001b[39m(equation, \u001b[39m*\u001b[39minputs, \u001b[39m*\u001b[39m\u001b[39m*\u001b[39mkwargs):\n\u001b[1;32m    620\u001b[0m \u001b[39m  \u001b[39m\u001b[39mr\u001b[39m\u001b[39m\"\"\"Tensor contraction over specified indices and outer product.\u001b[39;00m\n\u001b[1;32m    621\u001b[0m \n\u001b[1;32m    622\u001b[0m \u001b[39m  Einsum allows defining Tensors by defining their element-wise computation.\u001b[39;00m\n\u001b[0;32m   (...)\u001b[0m\n\u001b[1;32m    760\u001b[0m \u001b[39m      - number of inputs or their shapes are inconsistent with `equation`.\u001b[39;00m\n\u001b[1;32m    761\u001b[0m \u001b[39m  \"\"\"\u001b[39;00m\n\u001b[0;32m--> 762\u001b[0m   \u001b[39mreturn\u001b[39;00m _einsum_v2(equation, \u001b[39m*\u001b[39;49minputs, \u001b[39m*\u001b[39;49m\u001b[39m*\u001b[39;49mkwargs)\n",
      "File \u001b[0;32m~/Desktop/qt/transformer_wavefunctions-1/qt_env/lib/python3.10/site-packages/tensorflow/python/ops/special_math_ops.py:1199\u001b[0m, in \u001b[0;36m_einsum_v2\u001b[0;34m(equation, *inputs, **kwargs)\u001b[0m\n\u001b[1;32m   1197\u001b[0m   \u001b[39mif\u001b[39;00m ellipsis_label:\n\u001b[1;32m   1198\u001b[0m     resolved_equation \u001b[39m=\u001b[39m resolved_equation\u001b[39m.\u001b[39mreplace(ellipsis_label, \u001b[39m'\u001b[39m\u001b[39m...\u001b[39m\u001b[39m'\u001b[39m)\n\u001b[0;32m-> 1199\u001b[0m   \u001b[39mreturn\u001b[39;00m gen_linalg_ops\u001b[39m.\u001b[39;49meinsum(inputs, resolved_equation)\n\u001b[1;32m   1201\u001b[0m \u001b[39m# Send fully specified shapes to opt_einsum, since it cannot handle unknown\u001b[39;00m\n\u001b[1;32m   1202\u001b[0m \u001b[39m# dimensions. For unknown dimensions, we guess that the dimension equals 1.\u001b[39;00m\n\u001b[1;32m   1203\u001b[0m \u001b[39m# Instead of creating Tensors or NumPy arrays with the specified shape,\u001b[39;00m\n\u001b[1;32m   1204\u001b[0m \u001b[39m# create a dummy `shaped` object with a `shape` property.\u001b[39;00m\n\u001b[1;32m   1205\u001b[0m shaped \u001b[39m=\u001b[39m collections\u001b[39m.\u001b[39mnamedtuple(\u001b[39m'\u001b[39m\u001b[39mshaped\u001b[39m\u001b[39m'\u001b[39m, [\u001b[39m'\u001b[39m\u001b[39mshape\u001b[39m\u001b[39m'\u001b[39m])\n",
      "File \u001b[0;32m~/Desktop/qt/transformer_wavefunctions-1/qt_env/lib/python3.10/site-packages/tensorflow/python/ops/gen_linalg_ops.py:1083\u001b[0m, in \u001b[0;36meinsum\u001b[0;34m(inputs, equation, name)\u001b[0m\n\u001b[1;32m   1081\u001b[0m \u001b[39mif\u001b[39;00m tld\u001b[39m.\u001b[39mis_eager:\n\u001b[1;32m   1082\u001b[0m   \u001b[39mtry\u001b[39;00m:\n\u001b[0;32m-> 1083\u001b[0m     _result \u001b[39m=\u001b[39m pywrap_tfe\u001b[39m.\u001b[39;49mTFE_Py_FastPathExecute(\n\u001b[1;32m   1084\u001b[0m       _ctx, \u001b[39m\"\u001b[39;49m\u001b[39mEinsum\u001b[39;49m\u001b[39m\"\u001b[39;49m, name, inputs, \u001b[39m\"\u001b[39;49m\u001b[39mequation\u001b[39;49m\u001b[39m\"\u001b[39;49m, equation)\n\u001b[1;32m   1085\u001b[0m     \u001b[39mreturn\u001b[39;00m _result\n\u001b[1;32m   1086\u001b[0m   \u001b[39mexcept\u001b[39;00m _core\u001b[39m.\u001b[39m_NotOkStatusException \u001b[39mas\u001b[39;00m e:\n",
      "\u001b[0;31mKeyboardInterrupt\u001b[0m: "
     ]
    }
   ],
   "source": [
    "Ns=50\n",
    "\n",
    "progress_bar = tqdm.tqdm(total=learning_rate.final_step, unit=' steps', ncols=100)\n",
    "\n",
    "for idx in range(learning_rate.final_step):\n",
    "    \n",
    "    derivatives, (e_real, e_imag) = decoder.evaluate_gradients(Ns, mhs_E_loc)\n",
    "    \n",
    "    optimizer.apply_gradients(zip(derivatives, decoder.trainable_weights))\n",
    "    \n",
    "    real_energies.append(e_real)\n",
    "    imag_energies.append(e_imag)\n",
    "    \n",
    "    if idx%5==0 and idx>0:\n",
    "        progress_bar.set_description(f\"Loss: {np.mean(real_energies[-5:]):.4f}\")\n",
    "    \n",
    "    if idx%50==0:\n",
    "        np.save(f\"{name}.npy\", np.array(list(zip(real_energies, imag_energies)), dtype=np.complex128))\n",
    "        decoder.save_weights(name)\n",
    "    progress_bar.update(1)\n",
    "\n",
    "progress_bar.close()\n",
    "\n",
    "np.save(f\"{name}.npy\", np.array(list(zip(real_energies, imag_energies)), dtype=np.complex128))\n",
    "decoder.save_weights(name)"
   ]
  },
  {
   "cell_type": "code",
   "execution_count": 20,
   "id": "a4469519",
   "metadata": {},
   "outputs": [
    {
     "ename": "KeyboardInterrupt",
     "evalue": "",
     "output_type": "error",
     "traceback": [
      "\u001b[0;31m---------------------------------------------------------------------------\u001b[0m",
      "\u001b[0;31mKeyboardInterrupt\u001b[0m                         Traceback (most recent call last)",
      "Cell \u001b[0;32mIn[20], line 9\u001b[0m\n\u001b[1;32m      3\u001b[0m initial_states \u001b[39m=\u001b[39m np\u001b[39m.\u001b[39mzeros((\u001b[39m50\u001b[39m, \u001b[39m1\u001b[39m))\n\u001b[1;32m      5\u001b[0m samples, log_probs, phases \u001b[39m=\u001b[39m decoder\u001b[39m.\u001b[39mautoregressive_sampling(\n\u001b[1;32m      6\u001b[0m     initial_states\n\u001b[1;32m      7\u001b[0m )\n\u001b[0;32m----> 9\u001b[0m er, ei \u001b[39m=\u001b[39m mhs_E_loc(samples, decoder)\n\u001b[1;32m     11\u001b[0m energy\u001b[39m.\u001b[39mappend(er)\n",
      "Cell \u001b[0;32mIn[7], line 73\u001b[0m, in \u001b[0;36mmhs_E_loc\u001b[0;34m(configuration, decoder)\u001b[0m\n\u001b[1;32m     69\u001b[0m flipped_batch_size \u001b[39m=\u001b[39m reshaped_flipped_states\u001b[39m.\u001b[39mshape[\u001b[39m0\u001b[39m]\n\u001b[1;32m     71\u001b[0m \u001b[39mfor\u001b[39;00m batch_idx \u001b[39min\u001b[39;00m \u001b[39mrange\u001b[39m(\u001b[39mint\u001b[39m(reshaped_flipped_states\u001b[39m.\u001b[39mshape[\u001b[39m0\u001b[39m]\u001b[39m/\u001b[39m\u001b[39m/\u001b[39mflipped_batch_size)\u001b[39m+\u001b[39m\u001b[39m1\u001b[39m):\n\u001b[0;32m---> 73\u001b[0m     flipped_log_probs, flipped_total_phases \u001b[39m=\u001b[39m decoder\u001b[39m.\u001b[39;49mevaluate_state(\n\u001b[1;32m     74\u001b[0m         reshaped_flipped_states[batch_idx\u001b[39m*\u001b[39;49mflipped_batch_size: (batch_idx\u001b[39m+\u001b[39;49m\u001b[39m1\u001b[39;49m)\u001b[39m*\u001b[39;49mflipped_batch_size],\n\u001b[1;32m     75\u001b[0m     )\n\u001b[1;32m     77\u001b[0m     flipped_total_phases_batches\u001b[39m.\u001b[39mappend(flipped_total_phases\u001b[39m.\u001b[39mnumpy())\n\u001b[1;32m     78\u001b[0m     flipped_log_prob_batches\u001b[39m.\u001b[39mappend(flipped_log_probs\u001b[39m.\u001b[39mnumpy())\n",
      "File \u001b[0;32m~/Desktop/qt/transformer_wavefunctions-1/TransformerWF.py:417\u001b[0m, in \u001b[0;36mTransformerDecoder.evaluate_state\u001b[0;34m(self, state, z_symmetric)\u001b[0m\n\u001b[1;32m    414\u001b[0m batch_size \u001b[39m=\u001b[39m state\u001b[39m.\u001b[39mshape[\u001b[39m0\u001b[39m]\n\u001b[1;32m    415\u001b[0m length \u001b[39m=\u001b[39m state\u001b[39m.\u001b[39mshape[\u001b[39m1\u001b[39m]\n\u001b[0;32m--> 417\u001b[0m conditional_logits, phases \u001b[39m=\u001b[39m \u001b[39mself\u001b[39;49m\u001b[39m.\u001b[39;49mcall(\n\u001b[1;32m    418\u001b[0m \tinputs\u001b[39m=\u001b[39;49mpad_states(state),\n\u001b[1;32m    419\u001b[0m )\n\u001b[1;32m    421\u001b[0m \u001b[39m\u001b[39m\u001b[39m\"\"\"\u001b[39;00m\n\u001b[1;32m    422\u001b[0m \u001b[39mCollect the total phases (aside from the final phase)\u001b[39;00m\n\u001b[1;32m    423\u001b[0m \u001b[39mand the conditional\u001b[39;00m\n\u001b[1;32m    424\u001b[0m \u001b[39m\"\"\"\u001b[39;00m\n\u001b[1;32m    425\u001b[0m total_phases \u001b[39m=\u001b[39m tf\u001b[39m.\u001b[39mreduce_sum(phases[:, \u001b[39m1\u001b[39m:], \u001b[39m-\u001b[39m\u001b[39m1\u001b[39m)\n",
      "File \u001b[0;32m~/Desktop/qt/transformer_wavefunctions-1/TransformerWF.py:315\u001b[0m, in \u001b[0;36mTransformerDecoder.call\u001b[0;34m(self, inputs)\u001b[0m\n\u001b[1;32m    312\u001b[0m mask \u001b[39m=\u001b[39m create_look_ahead_mask(embeddings\u001b[39m.\u001b[39mshape[\u001b[39m-\u001b[39m\u001b[39m2\u001b[39m])\n\u001b[1;32m    314\u001b[0m \u001b[39mfor\u001b[39;00m idx \u001b[39min\u001b[39;00m \u001b[39mrange\u001b[39m(\u001b[39mself\u001b[39m\u001b[39m.\u001b[39mdecoding_reps):\n\u001b[0;32m--> 315\u001b[0m \tattention_output \u001b[39m=\u001b[39m \u001b[39mself\u001b[39;49m\u001b[39m.\u001b[39;49mattention_layers[idx](\n\u001b[1;32m    316\u001b[0m \t\t[residual_stream, residual_stream], mask\u001b[39m=\u001b[39;49mmask\n\u001b[1;32m    317\u001b[0m \t)\n\u001b[1;32m    319\u001b[0m \tattention_output \u001b[39m=\u001b[39m \u001b[39mself\u001b[39m\u001b[39m.\u001b[39mdropout_layer(attention_output)\n\u001b[1;32m    321\u001b[0m \tresidual_stream \u001b[39m=\u001b[39m \u001b[39mself\u001b[39m\u001b[39m.\u001b[39mlayer_norms[idx][\u001b[39m0\u001b[39m](\n\u001b[1;32m    322\u001b[0m \t\tresidual_stream \u001b[39m+\u001b[39m attention_output\n\u001b[1;32m    323\u001b[0m \t)\n",
      "File \u001b[0;32m~/Desktop/qt/transformer_wavefunctions-1/qt_env/lib/python3.10/site-packages/keras/src/utils/traceback_utils.py:65\u001b[0m, in \u001b[0;36mfilter_traceback.<locals>.error_handler\u001b[0;34m(*args, **kwargs)\u001b[0m\n\u001b[1;32m     63\u001b[0m filtered_tb \u001b[39m=\u001b[39m \u001b[39mNone\u001b[39;00m\n\u001b[1;32m     64\u001b[0m \u001b[39mtry\u001b[39;00m:\n\u001b[0;32m---> 65\u001b[0m     \u001b[39mreturn\u001b[39;00m fn(\u001b[39m*\u001b[39;49margs, \u001b[39m*\u001b[39;49m\u001b[39m*\u001b[39;49mkwargs)\n\u001b[1;32m     66\u001b[0m \u001b[39mexcept\u001b[39;00m \u001b[39mException\u001b[39;00m \u001b[39mas\u001b[39;00m e:\n\u001b[1;32m     67\u001b[0m     filtered_tb \u001b[39m=\u001b[39m _process_traceback_frames(e\u001b[39m.\u001b[39m__traceback__)\n",
      "File \u001b[0;32m~/Desktop/qt/transformer_wavefunctions-1/qt_env/lib/python3.10/site-packages/keras/src/engine/base_layer.py:1150\u001b[0m, in \u001b[0;36mLayer.__call__\u001b[0;34m(self, *args, **kwargs)\u001b[0m\n\u001b[1;32m   1145\u001b[0m     inputs \u001b[39m=\u001b[39m \u001b[39mself\u001b[39m\u001b[39m.\u001b[39m_maybe_cast_inputs(inputs, input_list)\n\u001b[1;32m   1147\u001b[0m \u001b[39mwith\u001b[39;00m autocast_variable\u001b[39m.\u001b[39menable_auto_cast_variables(\n\u001b[1;32m   1148\u001b[0m     \u001b[39mself\u001b[39m\u001b[39m.\u001b[39m_compute_dtype_object\n\u001b[1;32m   1149\u001b[0m ):\n\u001b[0;32m-> 1150\u001b[0m     outputs \u001b[39m=\u001b[39m call_fn(inputs, \u001b[39m*\u001b[39;49margs, \u001b[39m*\u001b[39;49m\u001b[39m*\u001b[39;49mkwargs)\n\u001b[1;32m   1152\u001b[0m \u001b[39mif\u001b[39;00m \u001b[39mself\u001b[39m\u001b[39m.\u001b[39m_activity_regularizer:\n\u001b[1;32m   1153\u001b[0m     \u001b[39mself\u001b[39m\u001b[39m.\u001b[39m_handle_activity_regularization(inputs, outputs)\n",
      "File \u001b[0;32m~/Desktop/qt/transformer_wavefunctions-1/qt_env/lib/python3.10/site-packages/keras/src/utils/traceback_utils.py:96\u001b[0m, in \u001b[0;36minject_argument_info_in_traceback.<locals>.error_handler\u001b[0;34m(*args, **kwargs)\u001b[0m\n\u001b[1;32m     94\u001b[0m bound_signature \u001b[39m=\u001b[39m \u001b[39mNone\u001b[39;00m\n\u001b[1;32m     95\u001b[0m \u001b[39mtry\u001b[39;00m:\n\u001b[0;32m---> 96\u001b[0m     \u001b[39mreturn\u001b[39;00m fn(\u001b[39m*\u001b[39;49margs, \u001b[39m*\u001b[39;49m\u001b[39m*\u001b[39;49mkwargs)\n\u001b[1;32m     97\u001b[0m \u001b[39mexcept\u001b[39;00m \u001b[39mException\u001b[39;00m \u001b[39mas\u001b[39;00m e:\n\u001b[1;32m     98\u001b[0m     \u001b[39mif\u001b[39;00m \u001b[39mhasattr\u001b[39m(e, \u001b[39m\"\u001b[39m\u001b[39m_keras_call_info_injected\u001b[39m\u001b[39m\"\u001b[39m):\n\u001b[1;32m     99\u001b[0m         \u001b[39m# Only inject info for the innermost failing call\u001b[39;00m\n",
      "File \u001b[0;32m~/Desktop/qt/transformer_wavefunctions-1/qt_env/lib/python3.10/site-packages/tensorflow_addons/layers/multihead_attention.py:235\u001b[0m, in \u001b[0;36mMultiHeadAttention.call\u001b[0;34m(self, inputs, training, mask)\u001b[0m\n\u001b[1;32m    231\u001b[0m         mask \u001b[39m=\u001b[39m tf\u001b[39m.\u001b[39mexpand_dims(mask, \u001b[39m-\u001b[39m\u001b[39m3\u001b[39m)\n\u001b[1;32m    233\u001b[0m     logits \u001b[39m+\u001b[39m\u001b[39m=\u001b[39m \u001b[39m-\u001b[39m\u001b[39m10e9\u001b[39m \u001b[39m*\u001b[39m (\u001b[39m1.0\u001b[39m \u001b[39m-\u001b[39m mask)\n\u001b[0;32m--> 235\u001b[0m attn_coef \u001b[39m=\u001b[39m tf\u001b[39m.\u001b[39;49mnn\u001b[39m.\u001b[39;49msoftmax(logits)\n\u001b[1;32m    237\u001b[0m \u001b[39m# attention dropout\u001b[39;00m\n\u001b[1;32m    238\u001b[0m attn_coef_dropout \u001b[39m=\u001b[39m \u001b[39mself\u001b[39m\u001b[39m.\u001b[39mdropout(attn_coef, training\u001b[39m=\u001b[39mtraining)\n",
      "File \u001b[0;32m~/Desktop/qt/transformer_wavefunctions-1/qt_env/lib/python3.10/site-packages/tensorflow/python/util/traceback_utils.py:140\u001b[0m, in \u001b[0;36mfilter_traceback.<locals>.error_handler\u001b[0;34m(*args, **kwargs)\u001b[0m\n\u001b[1;32m    138\u001b[0m \u001b[39mdef\u001b[39;00m \u001b[39merror_handler\u001b[39m(\u001b[39m*\u001b[39margs, \u001b[39m*\u001b[39m\u001b[39m*\u001b[39mkwargs):\n\u001b[1;32m    139\u001b[0m   \u001b[39mtry\u001b[39;00m:\n\u001b[0;32m--> 140\u001b[0m     \u001b[39mif\u001b[39;00m \u001b[39mnot\u001b[39;00m is_traceback_filtering_enabled():\n\u001b[1;32m    141\u001b[0m       \u001b[39mreturn\u001b[39;00m fn(\u001b[39m*\u001b[39margs, \u001b[39m*\u001b[39m\u001b[39m*\u001b[39mkwargs)\n\u001b[1;32m    142\u001b[0m   \u001b[39mexcept\u001b[39;00m \u001b[39mNameError\u001b[39;00m:\n\u001b[1;32m    143\u001b[0m     \u001b[39m# In some very rare cases,\u001b[39;00m\n\u001b[1;32m    144\u001b[0m     \u001b[39m# `is_traceback_filtering_enabled` (from the outer scope) may not be\u001b[39;00m\n\u001b[1;32m    145\u001b[0m     \u001b[39m# accessible from inside this function\u001b[39;00m\n",
      "File \u001b[0;32m~/Desktop/qt/transformer_wavefunctions-1/qt_env/lib/python3.10/site-packages/tensorflow/python/util/traceback_utils.py:32\u001b[0m, in \u001b[0;36mis_traceback_filtering_enabled\u001b[0;34m()\u001b[0m\n\u001b[1;32m     26\u001b[0m _ENABLE_TRACEBACK_FILTERING \u001b[39m=\u001b[39m threading\u001b[39m.\u001b[39mlocal()\n\u001b[1;32m     27\u001b[0m _EXCLUDED_PATHS \u001b[39m=\u001b[39m (\n\u001b[1;32m     28\u001b[0m     os\u001b[39m.\u001b[39mpath\u001b[39m.\u001b[39mabspath(os\u001b[39m.\u001b[39mpath\u001b[39m.\u001b[39mjoin(\u001b[39m__file__\u001b[39m, \u001b[39m'\u001b[39m\u001b[39m..\u001b[39m\u001b[39m'\u001b[39m, \u001b[39m'\u001b[39m\u001b[39m..\u001b[39m\u001b[39m'\u001b[39m)),\n\u001b[1;32m     29\u001b[0m )\n\u001b[0;32m---> 32\u001b[0m \u001b[39m@tf_export\u001b[39m(\u001b[39m'\u001b[39m\u001b[39mdebugging.is_traceback_filtering_enabled\u001b[39m\u001b[39m'\u001b[39m)\n\u001b[1;32m     33\u001b[0m \u001b[39mdef\u001b[39;00m \u001b[39mis_traceback_filtering_enabled\u001b[39m():\n\u001b[1;32m     34\u001b[0m \u001b[39m  \u001b[39m\u001b[39m\"\"\"Check whether traceback filtering is currently enabled.\u001b[39;00m\n\u001b[1;32m     35\u001b[0m \n\u001b[1;32m     36\u001b[0m \u001b[39m  See also `tf.debugging.enable_traceback_filtering()` and\u001b[39;00m\n\u001b[0;32m   (...)\u001b[0m\n\u001b[1;32m     45\u001b[0m \u001b[39m    was called).\u001b[39;00m\n\u001b[1;32m     46\u001b[0m \u001b[39m  \"\"\"\u001b[39;00m\n\u001b[1;32m     47\u001b[0m   value \u001b[39m=\u001b[39m \u001b[39mgetattr\u001b[39m(_ENABLE_TRACEBACK_FILTERING, \u001b[39m'\u001b[39m\u001b[39mvalue\u001b[39m\u001b[39m'\u001b[39m, \u001b[39mTrue\u001b[39;00m)\n",
      "\u001b[0;31mKeyboardInterrupt\u001b[0m: "
     ]
    }
   ],
   "source": [
    "energy = []\n",
    "for rep in range(10):\n",
    "    initial_states = np.zeros((50, 1))\n",
    "    \n",
    "    samples, log_probs, phases = decoder.autoregressive_sampling(\n",
    "        initial_states\n",
    "    )\n",
    "    \n",
    "    er, ei = mhs_E_loc(samples, decoder)\n",
    "    \n",
    "    energy.append(er)"
   ]
  },
  {
   "cell_type": "code",
   "execution_count": null,
   "id": "0ac7ba99",
   "metadata": {},
   "outputs": [
    {
     "data": {
      "text/plain": [
       "(-211.2663670976272, 2.4852636457943666)"
      ]
     },
     "execution_count": 20,
     "metadata": {},
     "output_type": "execute_result"
    }
   ],
   "source": [
    "np.mean(energy), np.std(energy, ddof=1)"
   ]
  },
  {
   "cell_type": "code",
   "execution_count": null,
   "id": "2d5664dd",
   "metadata": {},
   "outputs": [
    {
     "data": {
      "image/png": "[encoded data removed]",
      "text/plain": [
       "<Figure size 432x288 with 1 Axes>"
      ]
     },
     "metadata": {
      "needs_background": "light"
     },
     "output_type": "display_data"
    }
   ],
   "source": [
    "plt.plot(np.array(real_energies)-np.min(np.array(real_energies)))\n",
    "plt.title(f\"Final Mean Energy: {np.mean(energy)}\")\n",
    "plt.yscale('log')"
   ]
  }
 ],
 "metadata": {
  "kernelspec": {
   "display_name": "Python 3 (ipykernel)",
   "language": "python",
   "name": "python3"
  },
  "language_info": {
   "codemirror_mode": {
    "name": "ipython",
    "version": 3
   },
   "file_extension": ".py",
   "mimetype": "text/x-python",
   "name": "python",
   "nbconvert_exporter": "python",
   "pygments_lexer": "ipython3",
   "version": "3.10.4"
  },
  "varInspector": {
   "cols": {
    "lenName": 16,
    "lenType": 16,
    "lenVar": 40
   },
   "kernels_config": {
    "python": {
     "delete_cmd_postfix": "",
     "delete_cmd_prefix": "del ",
     "library": "var_list.py",
     "varRefreshCmd": "print(var_dic_list())"
    },
    "r": {
     "delete_cmd_postfix": ") ",
     "delete_cmd_prefix": "rm(",
     "library": "var_list.r",
     "varRefreshCmd": "cat(var_dic_list()) "
    }
   },
   "types_to_exclude": [
    "module",
    "function",
    "builtin_function_or_method",
    "instance",
    "_Feature"
   ],
   "window_display": false
  }
 },
 "nbformat": 4,
 "nbformat_minor": 5
}
